{
 "cells": [
  {
   "cell_type": "markdown",
   "metadata": {},
   "source": [
    "# Problem 1: Library Management System\n",
    "\n",
    "### Description: Design a program to simulate a library management system. The system should manage books, members, and borrowing/returning actions.\n",
    "\n",
    "- Classes:\n",
    "    - Book:\n",
    "        - Attributes: title (string), author (string), isbn (string), available (boolean)\n",
    "        - Methods: __init__ (constructor), __str__ (string representation), borrow (sets available to False if available, raises exception otherwise), return_book (sets available to True)\n",
    "\n",
    "    - Member:\n",
    "        - Attributes: member_id (integer), name (string), borrowed_books (list of Book objects)\n",
    "        - Methods: __init__ (constructor), __str__ (string representation), borrow_book (adds a Book object to borrowed_books, calls Book.borrow), return_book (removes a Book object from borrowed_books, calls Book.return_book)\n",
    "\n",
    "    - Library:\n",
    "        - Attributes: books (list of Book objects), members (list of Member objects)\n",
    "        - Methods: __init__ (constructor), add_book, add_member, find_book_by_isbn, find_member_by_id, lend_book (takes member ID and ISBN, finds the book and member, and calls their respective borrow methods), return_book (takes member ID and ISBN, finds the book and member, and calls their respective return methods), display_available_books, display_borrowed_books\n",
    "\n",
    "Requirements:\n",
    "    Implement all the classes and methods described above.\n",
    "    The lend_book and return_book methods in the Library class should handle potential errors (e.g., book not found, member not found, book already borrowed). Use exceptions (try-except) appropriately.\n",
    "    Provide a simple main function to interact with the library system (add books, add members, lend/return books, display available books, display borrowed books).\n",
    " \n",
    "\n",
    "SUBMISSION - Google Colab Notebook link OR Github URL Link along with commit hash number. Make sure Colab link and Github repo are publicly accessible."
   ]
  },
  {
   "cell_type": "code",
   "execution_count": 2,
   "metadata": {},
   "outputs": [],
   "source": [
    "class BookNotAvaliableError(Exception):\n",
    "    pass"
   ]
  },
  {
   "cell_type": "code",
   "execution_count": 3,
   "metadata": {},
   "outputs": [],
   "source": [
    "class Book():\n",
    "    def __init__(self, title, author, isbn, avaliable):\n",
    "        self.title = title\n",
    "        self.author = author\n",
    "        self.isbn = isbn\n",
    "        self.avaliable = avaliable\n",
    "\n",
    "    def __str__(self):\n",
    "        return f\"{self.title} by {self.author}\"\n",
    "    \n",
    "    def borrow(self):\n",
    "        if self.avaliable:\n",
    "            self.avaliable = False\n",
    "        else:\n",
    "            raise BookNotAvaliableError(f\"{self.title} is not avaliable\")\n",
    "        \n",
    "    def return_book(self):\n",
    "        if not self.avaliable:\n",
    "            self.avaliable = True\n",
    "        else:\n",
    "            print(f\"{self.title} is already avaliable\")"
   ]
  },
  {
   "cell_type": "code",
   "execution_count": 4,
   "metadata": {},
   "outputs": [],
   "source": [
    "class Member():\n",
    "    def __init__(self, member_id, name):\n",
    "        self.member_id = member_id\n",
    "        self.name = name\n",
    "        self.borrowed_books = []\n",
    "                \n",
    "    def __str__(self):\n",
    "        return self.name\n",
    "    \n",
    "    def borrow_book(self, book):\n",
    "        try:\n",
    "            book.borrow()\n",
    "            self.borrowed_books.append(book)\n",
    "        except BookNotAvaliableError as e:\n",
    "            print(e)\n",
    "    \n",
    "    def return_book(self, book):\n",
    "        if book in self.borrowed_books:\n",
    "            book.return_book()\n",
    "            #Check again later why this is here\n",
    "            self.borrowed_books.remove(book)\n",
    "        else:\n",
    "            print(f\"{self.name} does not have {book.title}\")"
   ]
  },
  {
   "cell_type": "code",
   "execution_count": 5,
   "metadata": {},
   "outputs": [],
   "source": [
    "class Library():\n",
    "    def __init__ (self):\n",
    "        self.books = []\n",
    "        self.members = []\n",
    "    \n",
    "    def add_book(self, book):\n",
    "        self.books.append(book)\n",
    "\n",
    "    def add_member(self, member):\n",
    "        self.members.append(member)\n",
    "    \n",
    "    def find_book_by_isbn(self, isbn):\n",
    "        for book in self.books:\n",
    "            if book.isbn == isbn:\n",
    "                return book \n",
    "        return None\n",
    "    \n",
    "    def find_member_by_id(self, member_id):\n",
    "        for member in self.members:\n",
    "            if member.member_id == member_id:\n",
    "                return member\n",
    "        return None\n",
    "    \n",
    "    def lend_book(self, member_id, isbn):\n",
    "        member = self.find_member_by_id(member_id)\n",
    "        book = self.find_book_by_isbn(isbn)\n",
    "        if member and book:\n",
    "            try:\n",
    "                member.borrow_book(book)\n",
    "            except BookNotAvaliableError as e:\n",
    "                print(e)\n",
    "        else:\n",
    "            print(\"Member or book not found\")\n",
    "        \n",
    "    def return_book(self, member_id, isbn):\n",
    "        member = self.find_member_by_id(member_id)\n",
    "        book = self.find_book_by_isbn(isbn)\n",
    "        if member and book:\n",
    "            member.return_book(book)\n",
    "        else:\n",
    "            print(\"Member or book not found\")\n",
    "\n",
    "    def display_avaliable_books(self):\n",
    "        print(\"Avaliable books:\")\n",
    "        for book in self.books:\n",
    "            if book.avaliable:\n",
    "                print(book)\n",
    "\n",
    "    def display_borrowed_books(self):\n",
    "        print(\"Borrowed books:\")\n",
    "        for book in self.books:\n",
    "            if not book.avaliable:\n",
    "                print(book)"
   ]
  },
  {
   "cell_type": "markdown",
   "metadata": {},
   "source": [
    "#### Example Usage"
   ]
  },
  {
   "cell_type": "code",
   "execution_count": 6,
   "metadata": {},
   "outputs": [],
   "source": [
    "book1 = Book(\"Alice in Wonderland\", \"IDK who that is\", 123, True)\n",
    "book2 = Book(\"Naruto\", \"Masashi Kishimoto\", 456, True)\n",
    "book3 = Book(\"Rezero\", \"The big G\", 789, True)\n",
    "\n",
    "member1 = Member(1, \"Alice\")\n",
    "member2 = Member(2, \"Naruto\")\n",
    "member3 = Member(3, \"Subaru\")"
   ]
  },
  {
   "cell_type": "code",
   "execution_count": 7,
   "metadata": {},
   "outputs": [],
   "source": [
    "library = Library()\n",
    "library.add_book(book1)\n",
    "library.add_book(book2)\n",
    "library.add_member(member1)\n",
    "library.add_member(member2)"
   ]
  },
  {
   "cell_type": "code",
   "execution_count": 8,
   "metadata": {},
   "outputs": [
    {
     "name": "stdout",
     "output_type": "stream",
     "text": [
      "Avaliable books:\n",
      "Alice in Wonderland by IDK who that is\n",
      "Naruto by Masashi Kishimoto\n",
      "Borrowed books:\n"
     ]
    }
   ],
   "source": [
    "library.display_avaliable_books()\n",
    "library.display_borrowed_books()"
   ]
  },
  {
   "cell_type": "code",
   "execution_count": 15,
   "metadata": {},
   "outputs": [],
   "source": [
    "library.lend_book(1, 123)"
   ]
  },
  {
   "cell_type": "code",
   "execution_count": 16,
   "metadata": {},
   "outputs": [
    {
     "name": "stdout",
     "output_type": "stream",
     "text": [
      "Avaliable books:\n",
      "Naruto by Masashi Kishimoto\n",
      "Borrowed books:\n",
      "Alice in Wonderland by IDK who that is\n"
     ]
    }
   ],
   "source": [
    "library.display_avaliable_books()\n",
    "library.display_borrowed_books()"
   ]
  },
  {
   "cell_type": "code",
   "execution_count": 17,
   "metadata": {},
   "outputs": [],
   "source": [
    "library.return_book(1, 123)"
   ]
  },
  {
   "cell_type": "code",
   "execution_count": 18,
   "metadata": {},
   "outputs": [
    {
     "name": "stdout",
     "output_type": "stream",
     "text": [
      "Avaliable books:\n",
      "Alice in Wonderland by IDK who that is\n",
      "Naruto by Masashi Kishimoto\n",
      "Borrowed books:\n"
     ]
    }
   ],
   "source": [
    "library.display_avaliable_books()\n",
    "library.display_borrowed_books()"
   ]
  },
  {
   "cell_type": "code",
   "execution_count": 19,
   "metadata": {},
   "outputs": [
    {
     "name": "stdout",
     "output_type": "stream",
     "text": [
      "Member or book not found\n"
     ]
    }
   ],
   "source": [
    "library.lend_book(3, 123)"
   ]
  },
  {
   "cell_type": "code",
   "execution_count": 21,
   "metadata": {},
   "outputs": [
    {
     "name": "stdout",
     "output_type": "stream",
     "text": [
      "Member or book not found\n"
     ]
    }
   ],
   "source": [
    "library.lend_book(2, 789)"
   ]
  }
 ],
 "metadata": {
  "kernelspec": {
   "display_name": "base",
   "language": "python",
   "name": "python3"
  },
  "language_info": {
   "codemirror_mode": {
    "name": "ipython",
    "version": 3
   },
   "file_extension": ".py",
   "mimetype": "text/x-python",
   "name": "python",
   "nbconvert_exporter": "python",
   "pygments_lexer": "ipython3",
   "version": "3.12.4"
  }
 },
 "nbformat": 4,
 "nbformat_minor": 2
}
